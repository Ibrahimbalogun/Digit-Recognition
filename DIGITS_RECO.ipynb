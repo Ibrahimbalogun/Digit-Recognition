{
 "cells": [
  {
   "cell_type": "code",
   "execution_count": 1,
   "metadata": {},
   "outputs": [],
   "source": [
    "\n",
    "import numpy as np\n",
    "import pandas  as pd\n",
    "from pandas import Series, DataFrame\n",
    "import scipy\n",
    "from scipy.stats import spearmanr\n",
    "from sklearn.ensemble import RandomForestClassifier\n",
    "\n",
    "from pylab import rcParams\n",
    "import seaborn as sns\n",
    "import seaborn as sn\n",
    "import matplotlib.pyplot as plt\n",
    "import sklearn\n",
    "from sklearn.datasets import load_digits\n",
    "digits = load_digits()\n",
    "from sklearn.preprocessing import scale\n",
    "from sklearn.model_selection import train_test_split\n",
    "from sklearn import metrics\n",
    "from sklearn import preprocessing\n",
    "%matplotlib inline"
   ]
  },
  {
   "cell_type": "code",
   "execution_count": 2,
   "metadata": {},
   "outputs": [],
   "source": [
    "#loading the dataset into the Jupyter environment\n",
    "train = pd.read_csv('C:/Users/HP/Desktop/digit reco/mnist_train.csv',header = None)\n",
    "test = pd.read_csv('C:/Users/HP/Desktop/digit reco/mnist_test.csv',header = None )\n",
    "data = [train,test]"
   ]
  },
  {
   "cell_type": "code",
   "execution_count": 3,
   "metadata": {},
   "outputs": [
    {
     "data": {
      "text/html": [
       "<div>\n",
       "<style scoped>\n",
       "    .dataframe tbody tr th:only-of-type {\n",
       "        vertical-align: middle;\n",
       "    }\n",
       "\n",
       "    .dataframe tbody tr th {\n",
       "        vertical-align: top;\n",
       "    }\n",
       "\n",
       "    .dataframe thead th {\n",
       "        text-align: right;\n",
       "    }\n",
       "</style>\n",
       "<table border=\"1\" class=\"dataframe\">\n",
       "  <thead>\n",
       "    <tr style=\"text-align: right;\">\n",
       "      <th></th>\n",
       "      <th>0</th>\n",
       "      <th>1</th>\n",
       "      <th>2</th>\n",
       "      <th>3</th>\n",
       "      <th>4</th>\n",
       "      <th>5</th>\n",
       "      <th>6</th>\n",
       "      <th>7</th>\n",
       "      <th>8</th>\n",
       "      <th>9</th>\n",
       "      <th>...</th>\n",
       "      <th>775</th>\n",
       "      <th>776</th>\n",
       "      <th>777</th>\n",
       "      <th>778</th>\n",
       "      <th>779</th>\n",
       "      <th>780</th>\n",
       "      <th>781</th>\n",
       "      <th>782</th>\n",
       "      <th>783</th>\n",
       "      <th>784</th>\n",
       "    </tr>\n",
       "  </thead>\n",
       "  <tbody>\n",
       "    <tr>\n",
       "      <th>0</th>\n",
       "      <td>7</td>\n",
       "      <td>0</td>\n",
       "      <td>0</td>\n",
       "      <td>0</td>\n",
       "      <td>0</td>\n",
       "      <td>0</td>\n",
       "      <td>0</td>\n",
       "      <td>0</td>\n",
       "      <td>0</td>\n",
       "      <td>0</td>\n",
       "      <td>...</td>\n",
       "      <td>0</td>\n",
       "      <td>0</td>\n",
       "      <td>0</td>\n",
       "      <td>0</td>\n",
       "      <td>0</td>\n",
       "      <td>0</td>\n",
       "      <td>0</td>\n",
       "      <td>0</td>\n",
       "      <td>0</td>\n",
       "      <td>0</td>\n",
       "    </tr>\n",
       "    <tr>\n",
       "      <th>1</th>\n",
       "      <td>2</td>\n",
       "      <td>0</td>\n",
       "      <td>0</td>\n",
       "      <td>0</td>\n",
       "      <td>0</td>\n",
       "      <td>0</td>\n",
       "      <td>0</td>\n",
       "      <td>0</td>\n",
       "      <td>0</td>\n",
       "      <td>0</td>\n",
       "      <td>...</td>\n",
       "      <td>0</td>\n",
       "      <td>0</td>\n",
       "      <td>0</td>\n",
       "      <td>0</td>\n",
       "      <td>0</td>\n",
       "      <td>0</td>\n",
       "      <td>0</td>\n",
       "      <td>0</td>\n",
       "      <td>0</td>\n",
       "      <td>0</td>\n",
       "    </tr>\n",
       "    <tr>\n",
       "      <th>2</th>\n",
       "      <td>1</td>\n",
       "      <td>0</td>\n",
       "      <td>0</td>\n",
       "      <td>0</td>\n",
       "      <td>0</td>\n",
       "      <td>0</td>\n",
       "      <td>0</td>\n",
       "      <td>0</td>\n",
       "      <td>0</td>\n",
       "      <td>0</td>\n",
       "      <td>...</td>\n",
       "      <td>0</td>\n",
       "      <td>0</td>\n",
       "      <td>0</td>\n",
       "      <td>0</td>\n",
       "      <td>0</td>\n",
       "      <td>0</td>\n",
       "      <td>0</td>\n",
       "      <td>0</td>\n",
       "      <td>0</td>\n",
       "      <td>0</td>\n",
       "    </tr>\n",
       "    <tr>\n",
       "      <th>3</th>\n",
       "      <td>0</td>\n",
       "      <td>0</td>\n",
       "      <td>0</td>\n",
       "      <td>0</td>\n",
       "      <td>0</td>\n",
       "      <td>0</td>\n",
       "      <td>0</td>\n",
       "      <td>0</td>\n",
       "      <td>0</td>\n",
       "      <td>0</td>\n",
       "      <td>...</td>\n",
       "      <td>0</td>\n",
       "      <td>0</td>\n",
       "      <td>0</td>\n",
       "      <td>0</td>\n",
       "      <td>0</td>\n",
       "      <td>0</td>\n",
       "      <td>0</td>\n",
       "      <td>0</td>\n",
       "      <td>0</td>\n",
       "      <td>0</td>\n",
       "    </tr>\n",
       "    <tr>\n",
       "      <th>4</th>\n",
       "      <td>4</td>\n",
       "      <td>0</td>\n",
       "      <td>0</td>\n",
       "      <td>0</td>\n",
       "      <td>0</td>\n",
       "      <td>0</td>\n",
       "      <td>0</td>\n",
       "      <td>0</td>\n",
       "      <td>0</td>\n",
       "      <td>0</td>\n",
       "      <td>...</td>\n",
       "      <td>0</td>\n",
       "      <td>0</td>\n",
       "      <td>0</td>\n",
       "      <td>0</td>\n",
       "      <td>0</td>\n",
       "      <td>0</td>\n",
       "      <td>0</td>\n",
       "      <td>0</td>\n",
       "      <td>0</td>\n",
       "      <td>0</td>\n",
       "    </tr>\n",
       "    <tr>\n",
       "      <th>5</th>\n",
       "      <td>1</td>\n",
       "      <td>0</td>\n",
       "      <td>0</td>\n",
       "      <td>0</td>\n",
       "      <td>0</td>\n",
       "      <td>0</td>\n",
       "      <td>0</td>\n",
       "      <td>0</td>\n",
       "      <td>0</td>\n",
       "      <td>0</td>\n",
       "      <td>...</td>\n",
       "      <td>0</td>\n",
       "      <td>0</td>\n",
       "      <td>0</td>\n",
       "      <td>0</td>\n",
       "      <td>0</td>\n",
       "      <td>0</td>\n",
       "      <td>0</td>\n",
       "      <td>0</td>\n",
       "      <td>0</td>\n",
       "      <td>0</td>\n",
       "    </tr>\n",
       "    <tr>\n",
       "      <th>6</th>\n",
       "      <td>4</td>\n",
       "      <td>0</td>\n",
       "      <td>0</td>\n",
       "      <td>0</td>\n",
       "      <td>0</td>\n",
       "      <td>0</td>\n",
       "      <td>0</td>\n",
       "      <td>0</td>\n",
       "      <td>0</td>\n",
       "      <td>0</td>\n",
       "      <td>...</td>\n",
       "      <td>0</td>\n",
       "      <td>0</td>\n",
       "      <td>0</td>\n",
       "      <td>0</td>\n",
       "      <td>0</td>\n",
       "      <td>0</td>\n",
       "      <td>0</td>\n",
       "      <td>0</td>\n",
       "      <td>0</td>\n",
       "      <td>0</td>\n",
       "    </tr>\n",
       "    <tr>\n",
       "      <th>7</th>\n",
       "      <td>9</td>\n",
       "      <td>0</td>\n",
       "      <td>0</td>\n",
       "      <td>0</td>\n",
       "      <td>0</td>\n",
       "      <td>0</td>\n",
       "      <td>0</td>\n",
       "      <td>0</td>\n",
       "      <td>0</td>\n",
       "      <td>0</td>\n",
       "      <td>...</td>\n",
       "      <td>0</td>\n",
       "      <td>0</td>\n",
       "      <td>0</td>\n",
       "      <td>0</td>\n",
       "      <td>0</td>\n",
       "      <td>0</td>\n",
       "      <td>0</td>\n",
       "      <td>0</td>\n",
       "      <td>0</td>\n",
       "      <td>0</td>\n",
       "    </tr>\n",
       "    <tr>\n",
       "      <th>8</th>\n",
       "      <td>5</td>\n",
       "      <td>0</td>\n",
       "      <td>0</td>\n",
       "      <td>0</td>\n",
       "      <td>0</td>\n",
       "      <td>0</td>\n",
       "      <td>0</td>\n",
       "      <td>0</td>\n",
       "      <td>0</td>\n",
       "      <td>0</td>\n",
       "      <td>...</td>\n",
       "      <td>0</td>\n",
       "      <td>0</td>\n",
       "      <td>0</td>\n",
       "      <td>0</td>\n",
       "      <td>0</td>\n",
       "      <td>0</td>\n",
       "      <td>0</td>\n",
       "      <td>0</td>\n",
       "      <td>0</td>\n",
       "      <td>0</td>\n",
       "    </tr>\n",
       "    <tr>\n",
       "      <th>9</th>\n",
       "      <td>9</td>\n",
       "      <td>0</td>\n",
       "      <td>0</td>\n",
       "      <td>0</td>\n",
       "      <td>0</td>\n",
       "      <td>0</td>\n",
       "      <td>0</td>\n",
       "      <td>0</td>\n",
       "      <td>0</td>\n",
       "      <td>0</td>\n",
       "      <td>...</td>\n",
       "      <td>0</td>\n",
       "      <td>0</td>\n",
       "      <td>0</td>\n",
       "      <td>0</td>\n",
       "      <td>0</td>\n",
       "      <td>0</td>\n",
       "      <td>0</td>\n",
       "      <td>0</td>\n",
       "      <td>0</td>\n",
       "      <td>0</td>\n",
       "    </tr>\n",
       "  </tbody>\n",
       "</table>\n",
       "<p>10 rows × 785 columns</p>\n",
       "</div>"
      ],
      "text/plain": [
       "   0    1    2    3    4    5    6    7    8    9    ...  775  776  777  778  \\\n",
       "0    7    0    0    0    0    0    0    0    0    0  ...    0    0    0    0   \n",
       "1    2    0    0    0    0    0    0    0    0    0  ...    0    0    0    0   \n",
       "2    1    0    0    0    0    0    0    0    0    0  ...    0    0    0    0   \n",
       "3    0    0    0    0    0    0    0    0    0    0  ...    0    0    0    0   \n",
       "4    4    0    0    0    0    0    0    0    0    0  ...    0    0    0    0   \n",
       "5    1    0    0    0    0    0    0    0    0    0  ...    0    0    0    0   \n",
       "6    4    0    0    0    0    0    0    0    0    0  ...    0    0    0    0   \n",
       "7    9    0    0    0    0    0    0    0    0    0  ...    0    0    0    0   \n",
       "8    5    0    0    0    0    0    0    0    0    0  ...    0    0    0    0   \n",
       "9    9    0    0    0    0    0    0    0    0    0  ...    0    0    0    0   \n",
       "\n",
       "   779  780  781  782  783  784  \n",
       "0    0    0    0    0    0    0  \n",
       "1    0    0    0    0    0    0  \n",
       "2    0    0    0    0    0    0  \n",
       "3    0    0    0    0    0    0  \n",
       "4    0    0    0    0    0    0  \n",
       "5    0    0    0    0    0    0  \n",
       "6    0    0    0    0    0    0  \n",
       "7    0    0    0    0    0    0  \n",
       "8    0    0    0    0    0    0  \n",
       "9    0    0    0    0    0    0  \n",
       "\n",
       "[10 rows x 785 columns]"
      ]
     },
     "execution_count": 3,
     "metadata": {},
     "output_type": "execute_result"
    }
   ],
   "source": [
    "#Verifying the dataset by showing the (nxp)\n",
    "train.head()\n",
    "test[:10]"
   ]
  },
  {
   "cell_type": "code",
   "execution_count": 4,
   "metadata": {},
   "outputs": [],
   "source": [
    "#Data processing\n",
    "X_train = train.loc[:,1:]\n",
    "y_train = train.loc[:,0]\n",
    "X_test = test.loc[:,1:]\n",
    "y_test = test.loc[:,0]\n",
    "\n",
    "X_train_array = X_train.values\n",
    "X_test_array = X_test.values\n",
    "y_train_array = y_train.values\n",
    "y_test_array = y_test.values\n",
    "\n"
   ]
  },
  {
   "cell_type": "code",
   "execution_count": 5,
   "metadata": {},
   "outputs": [],
   "source": [
    "X_train_p = X_train_array.reshape(-1,28,28,1)\n",
    "X_test_p = X_test_array.reshape(-1,28,28,1)"
   ]
  },
  {
   "cell_type": "code",
   "execution_count": 6,
   "metadata": {},
   "outputs": [
    {
     "name": "stdout",
     "output_type": "stream",
     "text": [
      "Label: 1\n"
     ]
    },
    {
     "data": {
      "image/png": "[encoded data removed]",
      "text/plain": [
       "<Figure size 432x288 with 1 Axes>"
      ]
     },
     "metadata": {
      "needs_background": "light"
     },
     "output_type": "display_data"
    }
   ],
   "source": [
    "index=3\n",
    "print(\"Label: \" + str(y_train[index]))\n",
    "plt.imshow(X_train_p[index].reshape((28,28)),cmap='gray')\n",
    "plt.show()"
   ]
  },
  {
   "cell_type": "code",
   "execution_count": 7,
   "metadata": {},
   "outputs": [
    {
     "data": {
      "text/plain": [
       "count       784\n",
       "unique        1\n",
       "top       False\n",
       "freq        784\n",
       "dtype: object"
      ]
     },
     "execution_count": 7,
     "metadata": {},
     "output_type": "execute_result"
    }
   ],
   "source": [
    "#check for the missing values\n",
    "\n",
    "X_train.isnull().any().describe()\n",
    "X_test.isnull().any().describe()"
   ]
  },
  {
   "cell_type": "code",
   "execution_count": 8,
   "metadata": {},
   "outputs": [
    {
     "data": {
      "image/png": "[encoded data removed]",
      "text/plain": [
       "<Figure size 432x288 with 1 Axes>"
      ]
     },
     "metadata": {
      "needs_background": "light"
     },
     "output_type": "display_data"
    }
   ],
   "source": [
    "ex=plt.imshow(X_train_p[0][:,:,0])"
   ]
  },
  {
   "cell_type": "code",
   "execution_count": 9,
   "metadata": {},
   "outputs": [],
   "source": [
    "#Spiliting the dataset into training and testing\n",
    "random_seed =10\n",
    "X_train, X_test, y_train, y_test = train_test_split(X_train, y_train,\n",
    "                                                  test_size = 0.1, random_state=random_seed)\n"
   ]
  },
  {
   "cell_type": "code",
   "execution_count": 10,
   "metadata": {},
   "outputs": [
    {
     "data": {
      "text/plain": [
       "RandomForestClassifier(bootstrap=True, class_weight=None, criterion='entropy',\n",
       "                       max_depth=None, max_features='auto', max_leaf_nodes=None,\n",
       "                       min_impurity_decrease=0.0, min_impurity_split=None,\n",
       "                       min_samples_leaf=1, min_samples_split=2,\n",
       "                       min_weight_fraction_leaf=0.0, n_estimators=100,\n",
       "                       n_jobs=None, oob_score=False, random_state=None,\n",
       "                       verbose=0, warm_start=False)"
      ]
     },
     "execution_count": 10,
     "metadata": {},
     "output_type": "execute_result"
    }
   ],
   "source": [
    "#using a random classifier with a entropy criterion \n",
    "rf=RandomForestClassifier(n_estimators=100, criterion=\"entropy\")\n",
    "rf.fit(X_train,y_train)"
   ]
  },
  {
   "cell_type": "code",
   "execution_count": 18,
   "metadata": {},
   "outputs": [
    {
     "data": {
      "text/plain": [
       "RandomForestClassifier(bootstrap=True, class_weight=None, criterion='entropy',\n",
       "                       max_depth=None, max_features='auto', max_leaf_nodes=None,\n",
       "                       min_impurity_decrease=0.0, min_impurity_split=None,\n",
       "                       min_samples_leaf=1, min_samples_split=2,\n",
       "                       min_weight_fraction_leaf=0.0, n_estimators=20,\n",
       "                       n_jobs=None, oob_score=False, random_state=None,\n",
       "                       verbose=0, warm_start=False)"
      ]
     },
     "execution_count": 18,
     "metadata": {},
     "output_type": "execute_result"
    }
   ],
   "source": [
    "rf1=RandomForestClassifier(n_estimators=20, criterion=\"entropy\")\n",
    "rf1.fit(X_train,y_train)"
   ]
  },
  {
   "cell_type": "code",
   "execution_count": 19,
   "metadata": {},
   "outputs": [
    {
     "data": {
      "text/plain": [
       "RandomForestClassifier(bootstrap=True, class_weight=None, criterion='entropy',\n",
       "                       max_depth=None, max_features='auto', max_leaf_nodes=None,\n",
       "                       min_impurity_decrease=0.0, min_impurity_split=None,\n",
       "                       min_samples_leaf=1, min_samples_split=2,\n",
       "                       min_weight_fraction_leaf=0.0, n_estimators=50,\n",
       "                       n_jobs=None, oob_score=False, random_state=None,\n",
       "                       verbose=0, warm_start=False)"
      ]
     },
     "execution_count": 19,
     "metadata": {},
     "output_type": "execute_result"
    }
   ],
   "source": [
    "rf2=RandomForestClassifier(n_estimators=50, criterion=\"entropy\")\n",
    "rf2.fit(X_train,y_train)"
   ]
  },
  {
   "cell_type": "code",
   "execution_count": 20,
   "metadata": {},
   "outputs": [
    {
     "data": {
      "text/plain": [
       "RandomForestClassifier(bootstrap=True, class_weight=None, criterion='entropy',\n",
       "                       max_depth=None, max_features='auto', max_leaf_nodes=None,\n",
       "                       min_impurity_decrease=0.0, min_impurity_split=None,\n",
       "                       min_samples_leaf=1, min_samples_split=2,\n",
       "                       min_weight_fraction_leaf=0.0, n_estimators=75,\n",
       "                       n_jobs=None, oob_score=False, random_state=None,\n",
       "                       verbose=0, warm_start=False)"
      ]
     },
     "execution_count": 20,
     "metadata": {},
     "output_type": "execute_result"
    }
   ],
   "source": [
    "rf3=RandomForestClassifier(n_estimators=75, criterion=\"entropy\")\n",
    "rf3.fit(X_train,y_train)"
   ]
  },
  {
   "cell_type": "code",
   "execution_count": 21,
   "metadata": {},
   "outputs": [],
   "source": [
    "#Making predictions with the classifier\n",
    "pred=rf.predict(X_test)\n",
    "pred1=rf1.predict(X_test)\n",
    "pred2=rf2.predict(X_test)\n",
    "pred3=rf3.predict(X_test)\n"
   ]
  },
  {
   "cell_type": "code",
   "execution_count": 16,
   "metadata": {},
   "outputs": [
    {
     "data": {
      "text/plain": [
       "array([3, 5, 0, ..., 5, 2, 3], dtype=int64)"
      ]
     },
     "execution_count": 16,
     "metadata": {},
     "output_type": "execute_result"
    }
   ],
   "source": [
    "pred"
   ]
  },
  {
   "cell_type": "code",
   "execution_count": 22,
   "metadata": {},
   "outputs": [
    {
     "name": "stdout",
     "output_type": "stream",
     "text": [
      "[[547   0   0   0   0   1   2   0   3   1]\n",
      " [  0 673   4   1   1   0   0   1   0   0]\n",
      " [  4   2 606   2   1   0   0   5   3   1]\n",
      " [  2   2   9 540   0   6   0   2  10   2]\n",
      " [  0   1   0   0 576   0   4   2   0  12]\n",
      " [  4   0   1   7   2 544   2   0   3   2]\n",
      " [  2   0   1   0   1   0 574   0   1   0]\n",
      " [  1   2   7   0   7   0   0 667   3   7]\n",
      " [  1   5   3   4   1   2   5   2 553   4]\n",
      " [  1   1   1   6   7   2   0   3   5 530]]\n"
     ]
    }
   ],
   "source": [
    "#Exploring the confusion matrix to validate the level of correctly predicted digits\n",
    "from sklearn.metrics import confusion_matrix\n",
    "\n",
    "\n",
    "test_predictions = rf.predict(X_test)\n",
    "confusion = confusion_matrix(y_test, test_predictions)\n",
    "print(confusion)"
   ]
  },
  {
   "cell_type": "code",
   "execution_count": 23,
   "metadata": {},
   "outputs": [
    {
     "name": "stdout",
     "output_type": "stream",
     "text": [
      "[[544   0   1   1   0   2   2   1   3   0]\n",
      " [  0 673   5   1   1   0   0   0   0   0]\n",
      " [  3   2 605   4   0   1   1   5   2   1]\n",
      " [  1   0   7 541   1   6   0   3  12   2]\n",
      " [  0   1   0   1 572   0   5   2   1  13]\n",
      " [  4   2   1  11   2 534   3   0   5   3]\n",
      " [  1   0   2   0   2   6 565   0   3   0]\n",
      " [  2   2  10   3   4   1   0 661   3   8]\n",
      " [  3   6   6   7   3   4   7   1 535   8]\n",
      " [  0   1   1   7  11   2   0   6   6 522]]\n"
     ]
    }
   ],
   "source": [
    "test_predictions1 = rf1.predict(X_test)\n",
    "confusion = confusion_matrix(y_test, test_predictions1)\n",
    "print(confusion)"
   ]
  },
  {
   "cell_type": "code",
   "execution_count": 24,
   "metadata": {},
   "outputs": [
    {
     "name": "stdout",
     "output_type": "stream",
     "text": [
      "[[550   0   0   0   0   1   1   0   2   0]\n",
      " [  0 673   4   1   1   0   0   1   0   0]\n",
      " [  4   2 600   4   2   0   2   5   4   1]\n",
      " [  2   1   8 536   0   8   0   2  11   5]\n",
      " [  0   1   0   0 578   0   4   1   0  11]\n",
      " [  4   0   0  12   2 539   2   0   3   3]\n",
      " [  3   0   1   0   1   0 572   0   2   0]\n",
      " [  1   3   7   0   5   0   1 666   2   9]\n",
      " [  1   6   4   2   5   3   5   1 549   4]\n",
      " [  0   1   1   6   4   4   0   5   3 532]]\n"
     ]
    }
   ],
   "source": [
    "test_predictions2 = rf2.predict(X_test)\n",
    "confusion = confusion_matrix(y_test, test_predictions2)\n",
    "print(confusion)"
   ]
  },
  {
   "cell_type": "code",
   "execution_count": 25,
   "metadata": {},
   "outputs": [
    {
     "name": "stdout",
     "output_type": "stream",
     "text": [
      "[[549   0   0   0   0   1   2   0   2   0]\n",
      " [  0 673   5   1   1   0   0   0   0   0]\n",
      " [  4   2 601   5   2   0   0   6   2   2]\n",
      " [  1   0   8 547   0   5   1   3   6   2]\n",
      " [  0   1   0   0 577   1   4   1   1  10]\n",
      " [  4   0   1   9   2 540   3   0   4   2]\n",
      " [  1   0   2   0   1   1 573   0   1   0]\n",
      " [  2   2   7   1   5   0   0 668   1   8]\n",
      " [  1   2   4   4   2   3   4   1 555   4]\n",
      " [  1   1   2   7   5   2   0   5   4 529]]\n"
     ]
    }
   ],
   "source": [
    "test_predictions3 = rf3.predict(X_test)\n",
    "confusion = confusion_matrix(y_test, test_predictions3)\n",
    "print(confusion)"
   ]
  },
  {
   "cell_type": "code",
   "execution_count": 98,
   "metadata": {},
   "outputs": [],
   "source": [
    "#Cross validation\n",
    "\n",
    "random_seed =10\n",
    "\n",
    "from sklearn.model_selection import cross_validate\n",
    "\n",
    "Xtrain, Xtest, ytrain, ytest = train_test_split(X_train,y_train, test_size = 0.1,random_state=random_seed)\n",
    "model = RandomForestClassifier(n_estimators=100, criterion=\"entropy\")\n",
    "model.fit(X_train, y_train)\n",
    "ypred = model.predict(X_test)\n",
    "\n"
   ]
  },
  {
   "cell_type": "code",
   "execution_count": 99,
   "metadata": {},
   "outputs": [
    {
     "name": "stdout",
     "output_type": "stream",
     "text": [
      "[3 5 0 ... 5 2 3]\n"
     ]
    }
   ],
   "source": [
    "print(ypred)"
   ]
  },
  {
   "cell_type": "code",
   "execution_count": 100,
   "metadata": {
    "collapsed": true
   },
   "outputs": [
    {
     "name": "stdout",
     "output_type": "stream",
     "text": [
      "4883     False\n",
      "28477    False\n",
      "8527     False\n",
      "38347    False\n",
      "3363     False\n",
      "36370    False\n",
      "6083     False\n",
      "34418    False\n",
      "18938    False\n",
      "17773    False\n",
      "56040    False\n",
      "38816    False\n",
      "6682     False\n",
      "17769    False\n",
      "47682    False\n",
      "23600    False\n",
      "34795    False\n",
      "53244    False\n",
      "21836    False\n",
      "51265    False\n",
      "3404     False\n",
      "52886     True\n",
      "50380    False\n",
      "32901    False\n",
      "15058    False\n",
      "8219     False\n",
      "41498    False\n",
      "6244     False\n",
      "58797    False\n",
      "20758    False\n",
      "         ...  \n",
      "54479    False\n",
      "41282    False\n",
      "1604      True\n",
      "23731    False\n",
      "56600     True\n",
      "42379    False\n",
      "31737    False\n",
      "43488    False\n",
      "4463     False\n",
      "9579     False\n",
      "48016    False\n",
      "53985    False\n",
      "45874    False\n",
      "20675    False\n",
      "36798    False\n",
      "51449    False\n",
      "45833    False\n",
      "4009     False\n",
      "11335    False\n",
      "11278    False\n",
      "1440     False\n",
      "31705    False\n",
      "22600    False\n",
      "11549    False\n",
      "10760    False\n",
      "44647    False\n",
      "45900    False\n",
      "20033    False\n",
      "41204    False\n",
      "48076    False\n",
      "Name: 0, Length: 6000, dtype: bool\n"
     ]
    }
   ],
   "source": [
    "errors = (ypred - y_test != 0)\n",
    "print(errors)"
   ]
  },
  {
   "cell_type": "code",
   "execution_count": 103,
   "metadata": {},
   "outputs": [
    {
     "data": {
      "text/plain": [
       "0.9681666666666666"
      ]
     },
     "execution_count": 103,
     "metadata": {},
     "output_type": "execute_result"
    }
   ],
   "source": [
    "from sklearn.ensemble import RandomForestClassifier\n",
    "from sklearn.metrics import accuracy_score\n",
    "accuracy_score(y_test, ypred)"
   ]
  },
  {
   "cell_type": "code",
   "execution_count": 91,
   "metadata": {},
   "outputs": [
    {
     "data": {
      "image/png": "[encoded data removed]",
      "text/plain": [
       "<Figure size 432x288 with 1 Axes>"
      ]
     },
     "metadata": {
      "needs_background": "light"
     },
     "output_type": "display_data"
    }
   ],
   "source": [
    "\n",
    "from sklearn.metrics import confusion_matrix\n",
    "\n",
    "mat = confusion_matrix(y_test, test_predictions)\n",
    "\n",
    "sns.heatmap(mat, square=True, annot=True, cbar=False)\n",
    "plt.xlabel('predicted value')\n",
    "plt.ylabel('true value');"
   ]
  },
  {
   "cell_type": "code",
   "execution_count": 107,
   "metadata": {
    "collapsed": true
   },
   "outputs": [
    {
     "name": "stdout",
     "output_type": "stream",
     "text": [
      "(4883     3\n",
      "28477    5\n",
      "8527     0\n",
      "38347    6\n",
      "3363     6\n",
      "36370    9\n",
      "6083     1\n",
      "34418    1\n",
      "18938    5\n",
      "17773    6\n",
      "56040    2\n",
      "38816    0\n",
      "6682     1\n",
      "17769    4\n",
      "47682    7\n",
      "23600    6\n",
      "34795    2\n",
      "53244    5\n",
      "21836    5\n",
      "51265    0\n",
      "3404     3\n",
      "52886    7\n",
      "50380    7\n",
      "32901    2\n",
      "15058    4\n",
      "8219     1\n",
      "41498    5\n",
      "6244     1\n",
      "58797    4\n",
      "20758    8\n",
      "        ..\n",
      "54479    1\n",
      "41282    1\n",
      "1604     4\n",
      "23731    3\n",
      "56600    8\n",
      "42379    5\n",
      "31737    9\n",
      "43488    5\n",
      "4463     6\n",
      "9579     1\n",
      "48016    5\n",
      "53985    4\n",
      "45874    8\n",
      "20675    3\n",
      "36798    6\n",
      "51449    4\n",
      "45833    0\n",
      "4009     0\n",
      "11335    0\n",
      "11278    1\n",
      "1440     4\n",
      "31705    6\n",
      "22600    6\n",
      "11549    5\n",
      "10760    3\n",
      "44647    5\n",
      "45900    1\n",
      "20033    5\n",
      "41204    2\n",
      "48076    3\n",
      "Name: 0, Length: 6000, dtype: int64, array([3, 5, 0, ..., 5, 2, 3], dtype=int64))\n"
     ]
    }
   ],
   "source": [
    "from sklearn.metrics import mean_absolute_error\n",
    "mean_absolute_error =(y_test, ypred)\n",
    "print(mean_absolute_error)"
   ]
  },
  {
   "cell_type": "code",
   "execution_count": 108,
   "metadata": {
    "collapsed": true
   },
   "outputs": [
    {
     "name": "stdout",
     "output_type": "stream",
     "text": [
      "(4883     3\n",
      "28477    5\n",
      "8527     0\n",
      "38347    6\n",
      "3363     6\n",
      "36370    9\n",
      "6083     1\n",
      "34418    1\n",
      "18938    5\n",
      "17773    6\n",
      "56040    2\n",
      "38816    0\n",
      "6682     1\n",
      "17769    4\n",
      "47682    7\n",
      "23600    6\n",
      "34795    2\n",
      "53244    5\n",
      "21836    5\n",
      "51265    0\n",
      "3404     3\n",
      "52886    7\n",
      "50380    7\n",
      "32901    2\n",
      "15058    4\n",
      "8219     1\n",
      "41498    5\n",
      "6244     1\n",
      "58797    4\n",
      "20758    8\n",
      "        ..\n",
      "54479    1\n",
      "41282    1\n",
      "1604     4\n",
      "23731    3\n",
      "56600    8\n",
      "42379    5\n",
      "31737    9\n",
      "43488    5\n",
      "4463     6\n",
      "9579     1\n",
      "48016    5\n",
      "53985    4\n",
      "45874    8\n",
      "20675    3\n",
      "36798    6\n",
      "51449    4\n",
      "45833    0\n",
      "4009     0\n",
      "11335    0\n",
      "11278    1\n",
      "1440     4\n",
      "31705    6\n",
      "22600    6\n",
      "11549    5\n",
      "10760    3\n",
      "44647    5\n",
      "45900    1\n",
      "20033    5\n",
      "41204    2\n",
      "48076    3\n",
      "Name: 0, Length: 6000, dtype: int64, array([3, 5, 0, ..., 5, 2, 3], dtype=int64))\n"
     ]
    }
   ],
   "source": [
    "from sklearn.metrics import mean_squared_error\n",
    "mean_squared_error =(y_test, ypred)\n",
    "print(mean_squared_error)"
   ]
  },
  {
   "cell_type": "code",
   "execution_count": 109,
   "metadata": {
    "collapsed": true
   },
   "outputs": [
    {
     "name": "stdout",
     "output_type": "stream",
     "text": [
      "(4883     3\n",
      "28477    5\n",
      "8527     0\n",
      "38347    6\n",
      "3363     6\n",
      "36370    9\n",
      "6083     1\n",
      "34418    1\n",
      "18938    5\n",
      "17773    6\n",
      "56040    2\n",
      "38816    0\n",
      "6682     1\n",
      "17769    4\n",
      "47682    7\n",
      "23600    6\n",
      "34795    2\n",
      "53244    5\n",
      "21836    5\n",
      "51265    0\n",
      "3404     3\n",
      "52886    7\n",
      "50380    7\n",
      "32901    2\n",
      "15058    4\n",
      "8219     1\n",
      "41498    5\n",
      "6244     1\n",
      "58797    4\n",
      "20758    8\n",
      "        ..\n",
      "54479    1\n",
      "41282    1\n",
      "1604     4\n",
      "23731    3\n",
      "56600    8\n",
      "42379    5\n",
      "31737    9\n",
      "43488    5\n",
      "4463     6\n",
      "9579     1\n",
      "48016    5\n",
      "53985    4\n",
      "45874    8\n",
      "20675    3\n",
      "36798    6\n",
      "51449    4\n",
      "45833    0\n",
      "4009     0\n",
      "11335    0\n",
      "11278    1\n",
      "1440     4\n",
      "31705    6\n",
      "22600    6\n",
      "11549    5\n",
      "10760    3\n",
      "44647    5\n",
      "45900    1\n",
      "20033    5\n",
      "41204    2\n",
      "48076    3\n",
      "Name: 0, Length: 6000, dtype: int64, array([3, 5, 0, ..., 5, 2, 3], dtype=int64))\n"
     ]
    }
   ],
   "source": [
    "from sklearn.metrics import r2_score\n",
    "r2_score =(y_test, ypred)\n",
    "print(r2_score)"
   ]
  },
  {
   "cell_type": "code",
   "execution_count": 112,
   "metadata": {},
   "outputs": [
    {
     "name": "stdout",
     "output_type": "stream",
     "text": [
      "              precision    recall  f1-score   support\n",
      "\n",
      "           0       0.98      0.99      0.99       554\n",
      "           1       0.98      0.99      0.98       680\n",
      "           2       0.95      0.97      0.96       624\n",
      "           3       0.97      0.95      0.96       573\n",
      "           4       0.97      0.96      0.97       595\n",
      "           5       0.97      0.96      0.96       565\n",
      "           6       0.98      0.99      0.98       579\n",
      "           7       0.98      0.96      0.97       694\n",
      "           8       0.95      0.95      0.95       580\n",
      "           9       0.95      0.96      0.95       556\n",
      "\n",
      "    accuracy                           0.97      6000\n",
      "   macro avg       0.97      0.97      0.97      6000\n",
      "weighted avg       0.97      0.97      0.97      6000\n",
      "\n"
     ]
    }
   ],
   "source": [
    "from sklearn.metrics import classification_report\n",
    "\n",
    "print(classification_report(y_test, ypred))"
   ]
  },
  {
   "cell_type": "code",
   "execution_count": 19,
   "metadata": {},
   "outputs": [
    {
     "name": "stderr",
     "output_type": "stream",
     "text": [
      "C:\\Users\\HP\\Anaconda3\\lib\\site-packages\\sklearn\\ensemble\\forest.py:245: FutureWarning: The default value of n_estimators will change from 10 in version 0.20 to 100 in 0.22.\n",
      "  \"10 in version 0.20 to 100 in 0.22.\", FutureWarning)\n"
     ]
    },
    {
     "name": "stdout",
     "output_type": "stream",
     "text": [
      "Validation Accuracy: 0.947\n"
     ]
    }
   ],
   "source": [
    "from sklearn.metrics import accuracy_score\n",
    "clf=RandomForestClassifier()\n",
    "clf.fit(X_train,y_train)\n",
    "prediction_validation = clf.predict(X_test)\n",
    "print(\"Validation Accuracy: \" + str(accuracy_score(y_test,prediction_validation)))"
   ]
  },
  {
   "cell_type": "code",
   "execution_count": 29,
   "metadata": {},
   "outputs": [
    {
     "name": "stdout",
     "output_type": "stream",
     "text": [
      "Predicted 6\n"
     ]
    },
    {
     "data": {
      "text/plain": [
       "<matplotlib.image.AxesImage at 0x2672cf15e80>"
      ]
     },
     "execution_count": 29,
     "metadata": {},
     "output_type": "execute_result"
    },
    {
     "data": {
      "image/png": "[encoded data removed]",
      "text/plain": [
       "<Figure size 432x288 with 1 Axes>"
      ]
     },
     "metadata": {
      "needs_background": "light"
     },
     "output_type": "display_data"
    }
   ],
   "source": [
    "#test for digits prediction from the test dataset\n",
    "prediction_test = clf.predict(X_test)\n",
    "print(\"Predicted \" + str(prediction_test[index]))\n",
    "plt.imshow(X_test.iloc[index].values.reshape((28,28)),cmap='gray')"
   ]
  }
 ],
 "metadata": {
  "kernelspec": {
   "display_name": "Python 3",
   "language": "python",
   "name": "python3"
  },
  "language_info": {
   "codemirror_mode": {
    "name": "ipython",
    "version": 3
   },
   "file_extension": ".py",
   "mimetype": "text/x-python",
   "name": "python",
   "nbconvert_exporter": "python",
   "pygments_lexer": "ipython3",
   "version": "3.7.1"
  }
 },
 "nbformat": 4,
 "nbformat_minor": 2
}
